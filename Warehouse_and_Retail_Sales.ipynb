{
  "nbformat": 4,
  "nbformat_minor": 0,
  "metadata": {
    "colab": {
      "provenance": [],
      "authorship_tag": "ABX9TyMA//ZbnJeXUFpgUuRsAfQ2",
      "include_colab_link": true
    },
    "kernelspec": {
      "name": "python3",
      "display_name": "Python 3"
    },
    "language_info": {
      "name": "python"
    }
  },
  "cells": [
    {
      "cell_type": "markdown",
      "metadata": {
        "id": "view-in-github",
        "colab_type": "text"
      },
      "source": [
        "<a href=\"https://colab.research.google.com/github/pmayilsamy1/PandasAssignments/blob/main/Warehouse_and_Retail_Sales.ipynb\" target=\"_parent\"><img src=\"https://colab.research.google.com/assets/colab-badge.svg\" alt=\"Open In Colab\"/></a>"
      ]
    },
    {
      "cell_type": "code",
      "execution_count": null,
      "metadata": {
        "id": "8BlUxgwlb4A_"
      },
      "outputs": [],
      "source": [
        "\n",
        "import pandas as pd\n",
        "import matplotlib.pyplot as plt\n",
        "import seaborn as sns\n",
        "from sklearn.model_selection import train_test_split\n",
        "from sklearn.linear_model import LinearRegression\n",
        "from sklearn.metrics import mean_squared_error\n",
        "\n",
        "#Step 1: Data Loading and Preprocessing\n",
        "\n",
        "data_url = \"https://data.montgomerycountymd.gov/api/views/v76h-r7br/rows.csv?accessType=DOWNLOAD\"\n",
        "df = pd.read_csv(data_url)\n",
        "\n",
        "# Data Preprocessing (if required)\n",
        "df['YEAR'] = pd.to_numeric(df['YEAR'], errors='coerce')\n",
        "\n",
        "#Step 2: Data Exploration and Visualization\n",
        "\n",
        "# Example: Create a histogram of energy consumption\n",
        "plt.figure(figsize=(8, 6))\n",
        "plt.hist(df['YEAR'], bins=30)\n",
        "plt.xlabel('TYPE')\n",
        "plt.ylabel('RETAIL SALES')\n",
        "plt.title('Items sold in YEAR')\n",
        "plt.show()\n",
        "\n",
        "# Example: Create a heatmap to visualize correlations\n",
        "plt.figure(figsize=(10, 8))\n",
        "corr_matrix = df.corr()\n",
        "sns.heatmap(corr_matrix, annot=True, cmap='coolwarm')\n",
        "plt.title('Correlation Matrix')\n",
        "plt.show()\n",
        "\n",
        "# Predictive Modeling\n",
        "\n",
        "# Example: Prepare data and split into training and testing sets\n",
        "X = df[['YEAR', 'RETAIL SALES']]\n",
        "y = df['MONTH']\n",
        "X_train, X_test, y_train, y_test = train_test_split(X, y, test_size=0.2, random_state=42)\n",
        "\n",
        "# Example: Create and train a linear regression model\n",
        "model = LinearRegression()\n",
        "model.fit(X_train.notnull(), y_train.notnull())\n",
        "\n",
        "# Example: Make predictions and calculate mean squared error\n",
        "y_pred = model.predict(X_test)\n",
        "mse = mean_squared_error(y_test, y_pred)\n",
        "print(f'Mean Squared Error: {mse}')\n"
      ]
    }
  ]
}